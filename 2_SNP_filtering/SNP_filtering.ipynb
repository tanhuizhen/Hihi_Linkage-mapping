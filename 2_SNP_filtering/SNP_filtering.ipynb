{
 "cells": [
  {
   "cell_type": "markdown",
   "id": "f5433417-b15d-4d29-9cb1-601193af0248",
   "metadata": {
    "tags": []
   },
   "source": [
    "Prepare environment"
   ]
  },
  {
   "cell_type": "code",
   "execution_count": null,
   "id": "64130320-c5af-4caf-a57d-8a0d4bb6360f",
   "metadata": {},
   "outputs": [],
   "source": [
    "module load PLINK/1.09b6.16b"
   ]
  },
  {
   "cell_type": "markdown",
   "id": "86b723cb-8d6f-4ecf-afca-16f4a41c9ffe",
   "metadata": {},
   "source": [
    "Import and recode SNPs from the Axiom Analysis Suite output"
   ]
  },
  {
   "cell_type": "code",
   "execution_count": null,
   "id": "eaa7730e-5636-41f6-a6c6-46172edc1982",
   "metadata": {},
   "outputs": [],
   "source": [
    "plink --allow-extra-chr --allow-no-sex --chr-set 95 --nonfounders --recode --no-fid --no-parents  --no-pheno  --no-sex \\\n",
    "--file snps \\\n",
    "--out snps-1"
   ]
  },
  {
   "cell_type": "markdown",
   "id": "77eb9df9-2c73-43a3-a2a7-7480bd937421",
   "metadata": {},
   "source": [
    "Update individual IDs from given code to actual sample name"
   ]
  },
  {
   "cell_type": "code",
   "execution_count": null,
   "id": "c7b56e87-df13-4a8a-ba1b-ba3e75b7d2cd",
   "metadata": {},
   "outputs": [],
   "source": [
    "plink --allow-extra-chr --allow-no-sex --chr-set 95 --nonfounders --recode \\\n",
    "--file snps-1 \\\n",
    "--update-ids ids.txt \\\n",
    "--out snps-2"
   ]
  },
  {
   "cell_type": "markdown",
   "id": "e7f0783e-f5fe-4282-8be8-53a50a16f739",
   "metadata": {},
   "source": [
    "Update chromosome information"
   ]
  },
  {
   "cell_type": "code",
   "execution_count": null,
   "id": "880b076a-b2ba-4bc1-b9da-d9ddeec14d11",
   "metadata": {},
   "outputs": [],
   "source": [
    "plink \\\n",
    "--file snps-2 \\\n",
    "--update-chr map.txt 1 2 \\\n",
    "--make-bed --chr-set 95 --allow-extra-chr \\\n",
    "--out snps-3"
   ]
  },
  {
   "cell_type": "markdown",
   "id": "108b5c4a-2116-40b0-a669-f2a982218a9e",
   "metadata": {},
   "source": [
    "Remove SNPs with chromosomes as '0' which are contigs with Chr_status of 'other'"
   ]
  },
  {
   "cell_type": "code",
   "execution_count": null,
   "id": "1d8fd28c-ccea-4288-a656-c729a9b6df69",
   "metadata": {},
   "outputs": [],
   "source": [
    "plink --allow-extra-chr --allow-no-sex --chr-set 95 --nonfounders --recode \\\n",
    "--bfile snps-3 \\\n",
    "--not-chr 0 \\\n",
    "--out snps-4"
   ]
  },
  {
   "cell_type": "markdown",
   "id": "3cec6ce4-f748-4354-b3a0-5f07dd9ed319",
   "metadata": {},
   "source": [
    "Update sex, parent information and base-pair position"
   ]
  },
  {
   "cell_type": "code",
   "execution_count": null,
   "id": "35633df8-59ac-4053-89c0-525b2d11e07c",
   "metadata": {},
   "outputs": [],
   "source": [
    "plink --allow-extra-chr --allow-no-sex --chr-set 32 --nonfounders --recode \\\n",
    "--file snps-4 \\\n",
    "--update-sex sex.txt \\\n",
    "--update-parents parents.tfam \\\n",
    "--update-map map.txt 4 2 \\\n",
    "--out snps-5"
   ]
  },
  {
   "cell_type": "markdown",
   "id": "fc1bded0-2404-458e-b398-b7bfcea5eee0",
   "metadata": {},
   "source": [
    "Only retain validated samples, and calculate missingness, Hardy-Weinberg equilibrium exact test statistics and mendel errors"
   ]
  },
  {
   "cell_type": "code",
   "execution_count": null,
   "id": "1407dcda-d241-4b98-b5f7-d26854bc0cd5",
   "metadata": {},
   "outputs": [],
   "source": [
    "plink --allow-extra-chr --allow-no-sex --chr-set 32 --nonfounders --recode \\\n",
    "--missing --hardy midp --mendel --mendel-duos --mendel-multigen \\\n",
    "--file snps-5 \\\n",
    "--keep individuals.txt \\\n",
    "--out snps-6"
   ]
  },
  {
   "cell_type": "markdown",
   "id": "033a02fe-ea41-4fc4-b623-b2e397d9123b",
   "metadata": {},
   "source": [
    "Remove markers/individuals with >10% missingness and markers with <5% minor allele frequency"
   ]
  },
  {
   "cell_type": "code",
   "execution_count": null,
   "id": "40028a65-c7e4-43dd-9731-5a67a49d6bbc",
   "metadata": {},
   "outputs": [],
   "source": [
    "plink --allow-extra-chr --allow-no-sex --chr-set 32 --nonfounders --recode \\\n",
    "--geno 0.1 --mind 0.1 --maf 0.05 \\\n",
    "--file snps-6 \\\n",
    "--out snps-7"
   ]
  },
  {
   "cell_type": "markdown",
   "id": "cf70b204-ef44-4e28-8de9-4c565714cd60",
   "metadata": {},
   "source": [
    "Split file into autosomes and sex chromosomes"
   ]
  },
  {
   "cell_type": "code",
   "execution_count": null,
   "id": "d1a3084b-f926-4316-97ae-bd8f61790037",
   "metadata": {},
   "outputs": [],
   "source": [
    "# autosomes\n",
    "plink --allow-extra-chr --allow-no-sex --chr-set 95 --nonfounders --recode \\\n",
    "--file snps-7 \\\n",
    "--not-chr 33 34 35 36 \\\n",
    "--out snps-7A\n",
    "\n",
    "# sex chromosomes\n",
    "plink --allow-extra-chr --allow-no-sex --chr-set 95 --nonfounders --recode \\\n",
    "--file snps-7 \\\n",
    "--chr 33 34 35 36 \\\n",
    "--out snps-7S"
   ]
  },
  {
   "cell_type": "markdown",
   "id": "cb8a14c9-c0ad-4025-b761-cb083b80e98c",
   "metadata": {},
   "source": [
    "Filter autosomes for Hardy-Weinberg equilibrium exact test and mendel errors"
   ]
  },
  {
   "cell_type": "code",
   "execution_count": null,
   "id": "5bd5c5cd-afe6-4fab-8ac5-cf1cc1cdfc23",
   "metadata": {},
   "outputs": [],
   "source": [
    "plink --allow-extra-chr --allow-no-sex --chr-set 32 --nonfounders --recode \\\n",
    "--hwe 0.05 midp --me 1 0.1 \\\n",
    "--file snps-7A \\\n",
    "--out snps-7Af\n"
   ]
  },
  {
   "cell_type": "markdown",
   "id": "125e89fd-99f6-4fe8-a750-c02839003431",
   "metadata": {},
   "source": [
    "Merge autosomes and sex chromosomes and calculate missingness, Hardy-Weinberg equilibrium exact test statistics and mendel errors"
   ]
  },
  {
   "cell_type": "code",
   "execution_count": null,
   "id": "0272f617-296e-4668-9585-a7bb8a726671",
   "metadata": {},
   "outputs": [],
   "source": [
    "plink --allow-extra-chr --allow-no-sex --chr-set 32 --nonfounders --recode \\\n",
    "--file snps-7Af \\\n",
    "--merge snps-7S.ped snps-7S.map \\\n",
    "--missing --mendel --mendel-duos --mendel-multigen \\\n",
    "--out snps-8"
   ]
  },
  {
   "cell_type": "markdown",
   "id": "c5eae8ca-b04b-47d3-aa88-15a74993bcd9",
   "metadata": {},
   "source": [
    "Set both parental ID to missing if at least one parent is not in the dataset"
   ]
  },
  {
   "cell_type": "code",
   "execution_count": null,
   "id": "b4548de3-7783-426d-80e0-a124822896a8",
   "metadata": {},
   "outputs": [],
   "source": [
    "plink --allow-extra-chr --allow-no-sex --chr-set 32 --make-founders --recode \\\n",
    "--file snps-8 \\\n",
    "--out snps-9"
   ]
  },
  {
   "cell_type": "markdown",
   "id": "bca71e3e-7fcf-421e-b3ef-d41b3f876fc9",
   "metadata": {},
   "source": [
    "Recode as vcf"
   ]
  },
  {
   "cell_type": "code",
   "execution_count": null,
   "id": "93a89289-c7ad-4f9f-873d-c192b945b972",
   "metadata": {},
   "outputs": [],
   "source": [
    "plink --allow-extra-chr --allow-no-sex --chr-set 32 --nonfounders --recode vcf \\\n",
    "--file snps-9  \\\n",
    "--out snps-9"
   ]
  },
  {
   "cell_type": "markdown",
   "id": "19abffe9-425f-4cb5-a338-d2e69ab1859d",
   "metadata": {},
   "source": [
    "Recode as tped to get list of indivs, and calculate missingness, Hardy-Weinberg equilibrium exact test statistics and mendel errors"
   ]
  },
  {
   "cell_type": "code",
   "execution_count": null,
   "id": "813d424f-fb71-4c1c-99d5-399b6dfb8d20",
   "metadata": {},
   "outputs": [],
   "source": [
    "plink --allow-extra-chr --allow-no-sex --chr-set 32 --nonfounders --recode transpose \\\n",
    "--file snps-9 \\\n",
    "--out snps-9"
   ]
  },
  {
   "cell_type": "markdown",
   "id": "d64fe817-399a-4aee-9f97-32619025adb6",
   "metadata": {},
   "source": [
    "Remove duplicated SNPs"
   ]
  },
  {
   "cell_type": "code",
   "execution_count": null,
   "id": "5b3f222d-fa07-43e4-a4e7-74844757be36",
   "metadata": {},
   "outputs": [],
   "source": [
    "plink --allow-extra-chr --allow-no-sex --chr-set 32 --nonfounders --recode \\\n",
    "--file snps-9 \\\n",
    "--exclude remove-snps.txt \\\n",
    "--out snps-10"
   ]
  },
  {
   "cell_type": "markdown",
   "id": "66b8ab3a-defb-41f5-b6c6-305a7872746a",
   "metadata": {},
   "source": [
    "Recode as vcf"
   ]
  },
  {
   "cell_type": "code",
   "execution_count": null,
   "id": "1bd686d3-5e89-477b-8075-0a913709471d",
   "metadata": {},
   "outputs": [],
   "source": [
    "plink --allow-extra-chr --allow-no-sex --chr-set 32 --nonfounders --recode vcf \\\n",
    "--file snps-10  \\\n",
    "--out snps-10"
   ]
  },
  {
   "cell_type": "markdown",
   "id": "1842a9a9-5895-4110-b0a8-1f93764ac910",
   "metadata": {},
   "source": [
    "Recode as tped to get easy list of indivs, and calculate missingness, Hardy-Weinberg equilibrium exact test statistics and mendel errors"
   ]
  },
  {
   "cell_type": "code",
   "execution_count": null,
   "id": "5a62c5d5-dafb-4f55-9b6e-6f706217e2d0",
   "metadata": {},
   "outputs": [],
   "source": [
    "plink --allow-extra-chr --allow-no-sex --chr-set 32 --nonfounders --recode transpose \\\n",
    "--missing --mendel --mendel-duos --mendel-multigen \\\n",
    "--file snps-10 \\\n",
    "--out snps-10"
   ]
  }
 ],
 "metadata": {
  "kernelspec": {
   "display_name": "",
   "name": ""
  },
  "language_info": {
   "name": ""
  }
 },
 "nbformat": 4,
 "nbformat_minor": 5
}
