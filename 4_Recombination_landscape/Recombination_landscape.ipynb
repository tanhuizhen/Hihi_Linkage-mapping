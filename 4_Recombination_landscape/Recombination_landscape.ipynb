{
 "cells": [
  {
   "cell_type": "markdown",
   "id": "fae58a00-96fb-485a-862c-299127841429",
   "metadata": {},
   "source": [
    "Test correlations between physical size and sex-averaged map length as well as recombination rate of each linkage group (ran in R 4.2.1)"
   ]
  },
  {
   "cell_type": "code",
   "execution_count": null,
   "id": "bd75177e-fef3-4fc0-891a-ba650a14061c",
   "metadata": {
    "tags": []
   },
   "outputs": [],
   "source": [
    "library(statsExpressions)\n",
    "\n",
    "# physical size and sex-averaged map length\n",
    "corr_test(data, size, avgMap, type = \"nonparametric\")\n",
    "\n",
    "# physical size and recombination rate\n",
    "corr_test(data, size, avgRate, type = \"nonparametric\")"
   ]
  },
  {
   "cell_type": "markdown",
   "id": "200aae7d-03d6-4992-b247-a66537188589",
   "metadata": {},
   "source": [
    "Define non-overlapping intervals of 1 Mbp along each chromosome and extracting physical positions of the first and last SNP in each interval (ran in R 4.2.1)"
   ]
  },
  {
   "cell_type": "code",
   "execution_count": null,
   "id": "39e9fc23-83df-4896-8a06-13169bd0e598",
   "metadata": {
    "tags": []
   },
   "outputs": [],
   "source": [
    "# list of linkage groups\n",
    "ilist <- 1:32\n",
    "ilist2 <- ilist[-c(16,25,29,31)]\n",
    "# list of chromosomes\n",
    "jlist <- 1:24\n",
    "jlist1 <- jlist[-16]\n",
    "jlist2 <- append(jlist1, c(\"26\", \"27\", \"28\", \"1A\", \"4A\"))\n",
    "\n",
    "mapply(function(i, j) {\n",
    "  # import physical map\n",
    "  setwd(\"path/\")\n",
    "  data <- read.delim(Sys.glob(paste0(\"order-physical-\",i,\"-*.txt\")), header = FALSE)\n",
    "  data2 <- data[-(1:3), 1:4]\n",
    "  colnames(data2) <- c(\"marker\", \"male\", \"female\", \"avg\")\n",
    "  data2$male <- as.numeric(data2$male)\n",
    "  data2$female <- as.numeric(data2$female)\n",
    "  data2$avg <- as.numeric(data2$avg)\n",
    "  rownames(data2) = seq(length=nrow(data2))\n",
    "  # get physical position\n",
    "  data2$phy <- lepPos2$pos[match(data2$marker,lepPos2$marker)]\n",
    "  data2$markerOrder <- 1:nrow(data2)\n",
    "  name <- paste0(\"dataChr\",i)\n",
    "  assign(name, data2, envir = .GlobalEnv)\n",
    "  value <- ceiling(max(data2$phy))\n",
    "  freq <- as.data.frame(table(cut(data2$phy,seq(0,value,1))))\n",
    "  freq$Var1 <- stringr::str_replace(freq$Var1, '\\\\(', '')\n",
    "  freq$Var1 <- stringr::str_replace(freq$Var1, '\\\\]', '')\n",
    "  freq2 <- cSplit(freq, \"Var1\", \",\")\n",
    "  colnames(freq2) <- c(\"numSNP\", \"phyStart\", \"phyEnd\")\n",
    "  list <- seq(1,length(freq2$numSNP), by = 1)\n",
    "  markerEnd <- data.frame(matrix(NA,    # Create empty data frame\n",
    "                                 nrow = 1,\n",
    "                                 ncol = 1))\n",
    "  colnames(markerEnd) <- \"markerEnd\"\n",
    "  for(k in list){\n",
    "    end <- as.data.frame(with(freq2, sum(numSNP[1:k])))\n",
    "    colnames(end) <- \"markerEnd\"\n",
    "    markerEnd <- rbind(markerEnd,end)\n",
    "  }\n",
    "  markerEnd[is.na(markerEnd)] <- 0\n",
    "  markerEnd$markerStart <- markerEnd$markerEnd+1\n",
    "  tempEnd <- as.data.frame(markerEnd[-1,1])\n",
    "  tempStart <- head(as.data.frame(markerEnd[,2]),-1)\n",
    "  freq3 <- cbind(freq2, tempStart, tempEnd)\n",
    "  freq3 <- freq3[freq3$numSNP > 0,]\n",
    "  colnames(freq3) <- c(\"numSNP\", \"phyStart\", \"phyEnd\", \"markerStart\", \"markerEnd\")\n",
    "  freq3$maleStart <- data2[freq3$markerStart,2]\n",
    "  freq3$maleEnd <- data2[freq3$markerEnd,2]\n",
    "  freq3$maleInt <- freq3$maleEnd-freq3$maleStart\n",
    "  freq3$femaleStart <- data2[freq3$markerStart,3]\n",
    "  freq3$femaleEnd <- data2[freq3$markerEnd,3]\n",
    "  freq3$femaleInt <- freq3$femaleEnd-freq3$femaleStart\n",
    "  freq3$avgStart <- data2[freq3$markerStart,4]\n",
    "  freq3$avgEnd <- data2[freq3$markerEnd,4]\n",
    "  freq3$avgInt <- freq3$avgEnd-freq3$avgStart\n",
    "  freq3$phyStartActual <- data2$phy[match(freq3$markerStart, data2$markerOrder)]\n",
    "  freq3$phyEndActual <- data2$phy[match(freq3$markerEnd, data2$markerOrder)]\n",
    "  freq3$chr <- i\n",
    "  name <- paste0(\"freqChr\",i)\n",
    "  assign(name, freq3, envir = .GlobalEnv)\n",
    "},\n",
    "ilist2, jlist2)\n"
   ]
  },
  {
   "cell_type": "markdown",
   "id": "7aa2d0e1-86a3-457c-af27-763425647fd1",
   "metadata": {},
   "source": [
    "Extract a list of genes for each 1 Mbp interval (ran in R 4.2.1)"
   ]
  },
  {
   "cell_type": "code",
   "execution_count": null,
   "id": "19ccba84-281b-47da-9fe3-8febb293fadc",
   "metadata": {
    "tags": []
   },
   "outputs": [],
   "source": [
    "library(data.table)\n",
    "\n",
    "# import list of gene annotations\n",
    "ann7 <- read.delim(\"annotations.txt\", header = FALSE)\n",
    "ann8 <- ann7[,c(2,3,4,1)]\n",
    "colnames(ann8) <- c(\"chr\", \"start\", \"end\", \"geneid\")\n",
    "\n",
    "# import list of intervals, extracting columns \"chr\", \"start\", \"end\"\n",
    "intAll2\n",
    "\n",
    "## get genes WITHIN notable intervals\n",
    "intAll2 <- as.data.table(intAll2)\n",
    "ann8 <- as.data.table(ann8)\n",
    "setkey(intAll2, chr, start, end)\n",
    "overlap <- foverlaps(ann8, intAll2, type=\"within\", nomatch=NULL)\n",
    "#overlap <- overlap[,-7]\n",
    "# count number of genes\n",
    "overlap$pos <- paste(overlap$chr,\"-\",overlap$start,\"-\",overlap$end)\n",
    "overlapCount <- overlap[, .(numGenes = uniqueN(geneid)), by = pos]\n",
    "overlapCount <-as.data.frame(overlapCount)\n",
    "overlapCount[c(\"chr\", \"start\", \"end\")] <- str_split_fixed(overlapCount$pos,\"-\",3)\n",
    "overlapCount2 <- overlapCount[,c(3,4,5,2)]\n",
    "overlapCount2$chr <- as.numeric(overlapCount2$chr)\n",
    "overlapCount2$start <- as.numeric(overlapCount2$start)\n",
    "overlapCount2$end <- as.numeric(overlapCount2$end)\n",
    "intAll$numGenes <- overlapCount2$numGenes[match(paste0(intAll$chr,\",\",intAll$phyStart),\n",
    "                                             paste0(overlapCount2$chr,\",\",overlapCount2$start))]\n"
   ]
  }
 ],
 "metadata": {
  "kernelspec": {
   "display_name": "",
   "name": ""
  },
  "language_info": {
   "name": ""
  }
 },
 "nbformat": 4,
 "nbformat_minor": 5
}
