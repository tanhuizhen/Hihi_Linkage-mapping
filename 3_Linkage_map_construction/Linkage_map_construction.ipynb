{
 "cells": [
  {
   "cell_type": "markdown",
   "id": "105ac4c9-983f-485d-b126-335913465f9c",
   "metadata": {
    "tags": []
   },
   "source": [
    "# Linkage mapping using Lep-MAP3"
   ]
  },
  {
   "cell_type": "markdown",
   "id": "af373806-b3fb-4049-8589-fdc4898e9b0e",
   "metadata": {},
   "source": [
    "ParentCall2 module to call possible missing or erroneous genotypes"
   ]
  },
  {
   "cell_type": "code",
   "execution_count": null,
   "id": "3a5d589a-e17c-479a-b52f-3f302d4b7ece",
   "metadata": {},
   "outputs": [],
   "source": [
    "java -cp ParentCall2 \\\n",
    "data=pedigree-subset.txt \\\n",
    "vcfFile=snps-10.vcf \\\n",
    "removeNonInformative=1 \\\n",
    "halfSibs=1 \\\n",
    "ZLimit=1 \\\n",
    "> data-zlimit.call\n"
   ]
  },
  {
   "cell_type": "markdown",
   "id": "4c606765-d5a8-41ca-a91f-413cc5878af4",
   "metadata": {},
   "source": [
    "Split the ParentCall2 output file by chromosome (ran in R 4.2.1)"
   ]
  },
  {
   "cell_type": "code",
   "execution_count": null,
   "id": "fa50a934-2f54-447f-8af9-0efe4d4d0455",
   "metadata": {},
   "outputs": [],
   "source": [
    "# read in output of Parentcall2\n",
    "data <- read.delim(\"data-zlimit.call\", header = FALSE)\n",
    "dataPedi <- data[1:7,]\n",
    "dataGeno <- tail(data,-7)\n",
    "#dataGeno$V1 <- as.numeric(dataGeno$V1)\n",
    "\n",
    "# for each chromosome in list, create dataset and output\n",
    "for(i in 1:35){\n",
    "  chrSplit <- dataGeno[dataGeno$V1 %in% c(i,paste0(i,\"_unplaced\")),]\n",
    "  chrSplit2 <- rbind(dataPedi,chrSplit)\n",
    "  write.table(chrSplit2, file = paste0(\"data-chr\", i, \".call\"), sep = \"\\t\", row.names = FALSE, col.names = FALSE, quote = FALSE)\n",
    "}\n"
   ]
  },
  {
   "cell_type": "markdown",
   "id": "eccaed96-662f-4f44-8037-de1564cd31d7",
   "metadata": {},
   "source": [
    "SeparateChromosomes2 module to cluster SNPs into linkage groups"
   ]
  },
  {
   "cell_type": "code",
   "execution_count": null,
   "id": "0e77fff3-cc63-4b9d-827d-baacf35928e3",
   "metadata": {},
   "outputs": [],
   "source": [
    "for i in {1..33} 35\n",
    "do\n",
    "    java -cp SeparateChromosomes2 \\\n",
    "    data=data-chr$i.call \\\n",
    "    lodLimit=5 theta=0.03 sizeLimit=1 numThreads=32 \\\n",
    "    > mapChr$i-5.03.1.txt\n",
    "    sort mapChr$i-5.03.1.txt|uniq -c|sort -n > mapChr$i-5.03.1-sort.txt\n",
    "    continue\n",
    "done\n",
    "\n",
    "grep . *-sort.txt > mapChr-sort-all.txt\n"
   ]
  },
  {
   "cell_type": "markdown",
   "id": "0e74cea8-d554-48ee-b0d8-68adaad48389",
   "metadata": {},
   "source": [
    "Retain SNPs assigned to the largest linkage group of each chromosome and merge SNPs from all chromosomes into a single file (ran in R 4.2.1)"
   ]
  },
  {
   "cell_type": "code",
   "execution_count": null,
   "id": "1838b112-467c-47a1-b61f-42a6b5ab279a",
   "metadata": {},
   "outputs": [],
   "source": [
    "library(plyr)\n",
    "library(dplyr)\n",
    "\n",
    "# loop\n",
    "ilist <- 1:35\n",
    "ilist2 <- ilist[-34]\n",
    "for(i in ilist2){\n",
    "  # read in map file of each chromosome\n",
    "  data <- read.delim(paste0(\"mapChr\", i, \"-5.03.1.txt\"), header = TRUE)\n",
    "  colnames(data) <- \"lg\"\n",
    "  # manipulate linkage group assignments\n",
    "  data$lg[data$lg != \"1\"] <- \"0\" # for all linkage group assignments that is not '1', replace with '0'\n",
    "  data$lg[data$lg == \"1\"] <- i # for all linkage groups assignments that is '1', replace with chromosome number\n",
    "  # bind with chr and marker names\n",
    "  snpInfo <- read.delim(paste0(\"data-chr\",i,\"-placed.call\"), header = FALSE) # snp chr and pos information\n",
    "  snpInfo2 <- snpInfo[-(1:7),]\n",
    "  chrPos <- snpInfo2[,(1:2)]\n",
    "  colnames(chrPos) <- c(\"chr\",\"pos\")\n",
    "  name <- paste0(\"chr\",i)\n",
    "  assign(name, cbind(chrPos,data))\n",
    "}\n",
    "  \n",
    "# combine all map files\n",
    "chrList <- mget(paste0(\"chr\", ilist2))\n",
    "allChr <- ldply(chrList, data.frame)\n",
    "\n",
    "# reorder lg assignment according to data.call\n",
    "allCall <- read.delim(\"data-zlimit.call\", header = FALSE) # snp chr and pos information\n",
    "allCall2 <- allCall[-(1:7),]\n",
    "allCall3 <- allCall2[,(1:2)]\n",
    "colnames(allCall3) <- c(\"chr\",\"pos\")\n",
    "\n",
    "# get new lg assignment if chr and pos matches\n",
    "allCall3$lg <- allChr$lg[match(interaction(allCall3[c(\"chr\", \"pos\")]), interaction(allChr[c(\"chr\",\"pos\")]))]\n",
    "\n",
    "allCall3$lg[is.na(allCall3$lg)] <- 0\n",
    "\n",
    "# output SNPs\n",
    "write.table(allCall3, file = \"mapChrAll-5.03.1-full.txt\", sep = \"\\t\", row.names = FALSE, col.names = TRUE, quote = FALSE)\n",
    "mapChrAll <- as.data.frame(allCall3$lg)\n",
    "colnames(mapChrAll) <- \"#java SeparateChromosomes2  data=data-zlimit.call lodLimit=5 theta=0.03 sizeLimit=1 numThreads=32\"\n",
    "write.table(mapChrAll, file = \"mapChrAll-5.03.1.txt\", sep = \"\\t\", row.names = FALSE, col.names = TRUE, quote = FALSE)\n"
   ]
  },
  {
   "cell_type": "markdown",
   "id": "0e6bd4c4-65d1-4ca7-9377-a7335363b070",
   "metadata": {},
   "source": [
    "OrderMarkers2 module to infer SNP order within each linkage group"
   ]
  },
  {
   "cell_type": "code",
   "execution_count": null,
   "id": "99745408-cac6-4ada-bde2-68235c3ceba0",
   "metadata": {},
   "outputs": [],
   "source": [
    "# a priori map (code is for each chromosome)\n",
    "for i in {1..10}\n",
    "do\n",
    "    java -cp OrderMarkers2 \\\n",
    "    map=mapChrAll-5.03.1.txt \\\n",
    "    data=data-zlimit.call \\\n",
    "    numThreads=4 \\\n",
    "    chromosome=1 \\\n",
    "    scale=3M/N 3 \\ # only applied to the seven largest chromosomes\n",
    "    numMergeIterations=24 \\\n",
    "    numPolishIterations=8 \\\n",
    "    computeLODScores=order-1-r$i-LOD.txt \\\n",
    "    calculateIntervals=order-1-r$i.intervals \\\n",
    "    > order-1-r$i.txt\n",
    "done\n",
    "\n",
    "for i in {1..10}\n",
    "do\n",
    "    #get sex-averaged map\n",
    "    java -cp OrderMarkers2 \\\n",
    "    evaluateOrder=order-1-r$i.txt \\\n",
    "    data=data-zlimit.call \\\n",
    "    improveOrder=0 \\\n",
    "    sexAveraged=1 \\\n",
    "    scale=3M/N 3 \\\n",
    "    > order-1-r$i-SA.txt\n",
    "done\n",
    "\n",
    "# physical map (code is to loop through all chromosomes)\n",
    "for i in {1..33} 35\n",
    "do\n",
    "    java -cp OrderMarkers2 \\\n",
    "    data=data-zlimit.call \\\n",
    "    evaluateOrder=order-chr$i.txt \\\n",
    "    improveOrder=0 \\\n",
    "    numThreads=4 \\\n",
    "    > order-physical-$i.txt\n",
    "done\n",
    "\n",
    "for i in {1..33} 35\n",
    "do\n",
    "    #get sex-averaged map\n",
    "    java -cp OrderMarkers2 \\\n",
    "    evaluateOrder=order-physical-$i.txt \\\n",
    "    data=data-zlimit.call \\\n",
    "    improveOrder=0 \\\n",
    "    sexAveraged=1 \\\n",
    "    > order-physical-$i-SA.txt\n",
    "done\n"
   ]
  },
  {
   "cell_type": "markdown",
   "id": "18640876-fe57-493d-8aaf-adda2026a4c2",
   "metadata": {},
   "source": [
    "Merge male, female, and sex averaged maps"
   ]
  },
  {
   "cell_type": "code",
   "execution_count": null,
   "id": "5ea36bfb-55c7-4b01-8921-f4bf32dd5066",
   "metadata": {},
   "outputs": [],
   "source": [
    "## append SA value to -rX.txt file\n",
    "sed -n '1,2p' order-physical-$i.txt > order-physical-$i-top-temp.txt #extract command and likelihood\n",
    "tail -n +3 order-physical-$i.txt | cut -f 1-3 > order-physical-$i-left-temp.txt #extract marker, male, female\n",
    "tail -n +3 order-physical-$i-SA.txt | cut -f 2 > order-physical-$i-mid-temp.txt #extract average\n",
    "var=\"average_position\"\n",
    "sed -i \"1s/.*/$var/\" order-physical-$i-mid-temp.txt #rename first line of average\n",
    "tail -n +3 order-physical-$i.txt | cut -f 4- > order-physical-$i-right-temp.txt #extract phased data\n",
    "paste order-physical-$i-left-temp.txt order-physical-$i-mid-temp.txt order-physical-$i-right-temp.txt > order-physical-$i-temp.txt #cbind marker, positions, phased data\n",
    "cat order-physical-$i-top-temp.txt order-physical-$i-temp.txt > order-physical-$i-merged.txt #rbind with command and likelihood\n",
    "rm *-temp.txt\n"
   ]
  },
  {
   "cell_type": "markdown",
   "id": "5e77bfa4-da3d-4001-ba8f-d8601560fcbd",
   "metadata": {},
   "source": [
    "Applying linkage map to assemble female reference Z-linked contigs using agptools "
   ]
  },
  {
   "cell_type": "code",
   "execution_count": null,
   "id": "d4b4388c-a060-4a1b-b214-38d6990a73f7",
   "metadata": {},
   "outputs": [],
   "source": [
    "agptools split split.txt Ncf_Z.agp > Ncf_Z-split.agp\n",
    "agptools join -n 100 join.txt Ncf_Z-split.agp > Ncf_Z-join.agp\n",
    "agptools remove remove.txt Ncf_Z-join.agp > Ncf_Z-final.agp\n"
   ]
  },
  {
   "cell_type": "markdown",
   "id": "b865982f-5f88-4aac-9d76-8662c763e3ec",
   "metadata": {},
   "source": [
    "# Linkage map evaluation"
   ]
  },
  {
   "cell_type": "markdown",
   "id": "2eddf329-bbda-479a-9642-862244925ad5",
   "metadata": {},
   "source": [
    "Evaluate linkage maps using the LMPlot module in Lep-MAP3 which makes a Lep-MAP graph to detect mapping errors"
   ]
  },
  {
   "cell_type": "code",
   "execution_count": null,
   "id": "e6d82860-1353-42c3-a95e-87da21e93cd0",
   "metadata": {},
   "outputs": [],
   "source": [
    "# code looks through all chromosomes (physical map)\n",
    "for i in {1..35}\n",
    "do\n",
    "    java -cp LMPlot \\\n",
    "    order-physical-$i-merged.txt \\\n",
    "    > order-physical-$i-merged.dot\n",
    "    dot -Tpng order-physical-$i-merged.dot > order-physical-$i-merged.png\n",
    "done\n"
   ]
  },
  {
   "cell_type": "markdown",
   "id": "63c43317-816d-4ede-9916-7f694e430f8d",
   "metadata": {},
   "source": [
    "# Linkage map summary and visualisation"
   ]
  },
  {
   "cell_type": "markdown",
   "id": "9d2c1dbe-d921-4a0a-9d19-b91a437e0eba",
   "metadata": {},
   "source": [
    "Visualise linkage maps in LinkageMapView (ran in R 4.2.1)"
   ]
  },
  {
   "cell_type": "code",
   "execution_count": null,
   "id": "d1e22436-b5f8-4307-b389-39337f8501b6",
   "metadata": {},
   "outputs": [],
   "source": [
    "# load packages\n",
    "library(LinkageMapView)\n",
    "library(dplyr)\n",
    "\n",
    "# list of chromosomes to plot\n",
    "ilist <- c(1:15,17:24,26:28,30,32)\n",
    "jlist <- c(1:15,17:24,26:28, \"1A\", \"4A\")\n",
    "\n",
    "## import results\n",
    "# import autosomes\n",
    "mapply(function(i, j) {\n",
    "  # import file\n",
    "  setwd(\"order-physical\") # folder containing outputs from OrderMarkers2\n",
    "  lep <- read.delim(Sys.glob(paste0(\"order-physical-\",i,\"-*.txt\")), header = FALSE)\n",
    "  # manipulate file\n",
    "  lep2 <- lep[-(1:3),c(1,4)]\n",
    "  colnames(lep2) <- c(\"locus\", \"position\")\n",
    "  lep2$position <- as.numeric(lep2$position)\n",
    "  lep2$group <- j\n",
    "  lep2$group <- as.character(lep2$group)\n",
    "  name <- paste0(\"data\",i)\n",
    "  assign(name, lep2, envir = .GlobalEnv)\n",
    "  },\n",
    "  i = ilist,\n",
    "  j = jlist,\n",
    "  SIMPLIFY = FALSE)\n",
    "# import chr Z\n",
    "setwd(\"order-physical\")\n",
    "lep <- read.delim(Sys.glob(paste0(\"order-physical-33-*.txt\")), header = FALSE)\n",
    "# manipulate file\n",
    "data33 <- lep[-(1:3),c(1,2)]\n",
    "colnames(data33) <- c(\"locus\", \"position\")\n",
    "data33$position <- as.numeric(data33$position)\n",
    "data33$group <- \"Z\"\n",
    "data33$group <- as.character(data33$group)\n",
    "\n",
    "# draw tickmarks at each cM from 0 to largest position of linkage groups to be drawn\n",
    "list <- c(1:15,17:24,26:28,30,32,33)\n",
    "\n",
    "maxAll <- data.frame(matrix(NA,    # Create empty data frame\n",
    "                            nrow = 1,\n",
    "                            ncol = 2))\n",
    "colnames(maxAll) <- c(\"chr\", \"max\")\n",
    "\n",
    "for(i in list){\n",
    "  data <- get(paste0(\"data\",i))\n",
    "  maxChr <- data.frame(matrix(NA,    # Create empty data frame\n",
    "                              nrow = 1,\n",
    "                              ncol = 2))\n",
    "  colnames(maxChr) <- c(\"chr\", \"max\")\n",
    "  maxChr[1,1] <- i\n",
    "  maxChr[1,2] <- floor(max(data$position))\n",
    "  maxAll <- rbind(maxAll,maxChr)\n",
    "}\n",
    "\n",
    "maxAll <- na.omit(maxAll)\n",
    "\n",
    "maxpos <- floor(max(maxAll$max))\n",
    "at.axis <- seq(0, maxpos)\n",
    "\n",
    "# put labels on ruler at every 10 cM\n",
    "axlab <- vector()\n",
    "\n",
    "for (lab in 0:maxpos) {\n",
    "  if (!lab %% 10) {\n",
    "    axlab <- c(axlab, lab)\n",
    "  }\n",
    "  else {\n",
    "    axlab <- c(axlab, NA)\n",
    "  }\n",
    "}\n",
    "\n",
    "# concat dataframes\n",
    "dataList <- mget(paste0(\"data\",list))\n",
    "\n",
    "dataAll <- bind_rows(dataList)\n",
    "dataAll2 <- dataAll[,c(3,2,1)]\n",
    "\n",
    "chrlist <- c(1, \"1A\", 2:4,\"4A\", 5:15,17:24,26:28,\"Z\")\n",
    "chrlistName <- c(\"1 \", \"1A\", \"2 \", \"3 \", \"4 \", \"4A\", \"5 \", \"6 \", \"7 \", \"8 \", \"9 \",10:15, 17:24, 26:28, \"Z \")\n",
    "\n",
    "#palette <- c(\"#3E8AB9\", \"#4E9FB2\", \"#65B9A8\", \"#8CD1A4\", \"#DEF19D\", \"#D03A51\")\n",
    "#palette <- c(\"#274C7750\", \"#5C737250\", \"#91996C50\", \"#FAE66150\", \"#F29B4C50\", \"#E94F3750\")\n",
    "palette <- c(\"#007fff\", \"#8BD0A4\", \"#fed767\",\"#F5AE70\",\"#DC3220\")\n",
    "\n",
    "sectcoldfdf <- lmvdencolor(dataAll2, colorin = palette, bias = 1.5)\n",
    "\n",
    "# plot\n",
    "outfile = file.path(\"path/\",\n",
    "                    \"chr_denmap-all.pdf\")\n",
    "\n",
    "lmv.linkage.plot(dataAll2, outfile, pdf.height = 20, pdf.width = 18, pdf.bg = \"transparent\",\n",
    "                 mapthese = chrlist, lgw = 0.4, denmap = TRUE,\n",
    "                 at.axis = at.axis, labels.axis = axlab, ylab = \"Map length (cM)\",\n",
    "                 cex.axis = 1, cex.lgtitle = 1, lg.lwd = 3, lwd.axis = 3, \n",
    "                 sectcoldf = sectcoldfdf)\n"
   ]
  }
 ],
 "metadata": {
  "kernelspec": {
   "display_name": "",
   "name": ""
  },
  "language_info": {
   "name": ""
  }
 },
 "nbformat": 4,
 "nbformat_minor": 5
}
